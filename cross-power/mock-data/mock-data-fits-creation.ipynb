{
 "cells": [
  {
   "cell_type": "markdown",
   "id": "8c899eed-9dd2-4743-bd31-ea90ae5cac6e",
   "metadata": {},
   "source": [
    "# Mock Data Creation\n",
    "\n",
    "Mock data are required as is for the MeerKLASS cross-correlation power spectrum analysis (see e.g. [Cunnington+2023b](https://ui.adsabs.harvard.edu/abs/2023MNRAS.523.2453C/abstract) and/or [MeerKLASS Collaboration 2024](https://arxiv.org/abs/2407.21626)).  For now, the MeerKLASS data associated with these publications are still private.  We (UKSRC) were granted permission to distribute and analyze the mock data in place of the real data in this pipeline to enable sharing of the pipeline with the wider SRCNet.  Sky coordinates (RA, Dec) and pixel counts are important metadata for the pipeline, and these metadata are stored in the FITS files of the observed MeerKLASS data.  This notebook documents the process taken to replace the private data in these FITS files with mock data.  In this way, the generated FITS files contain the appropriate metadata but no traces of the real data.\n",
    "\n",
    "**NOTE:** The only step not documented in this notebook was creating copies of the MeerKLASS FITS files.  The original data files were copied to the `ska-teal-21cm-map` tenancy on Azimuth where Jacob Burba was given permission by MeerKLASS to copy and analyze the private MeerKLASS data.  This step has thus been excluded from this notebook to maintain the privacy of the original data."
   ]
  },
  {
   "cell_type": "markdown",
   "id": "78f8a838-6538-43b2-92b8-19924544e1b1",
   "metadata": {},
   "source": [
    "# Imports and function definitions"
   ]
  },
  {
   "cell_type": "code",
   "execution_count": 1,
   "id": "77674011-a46a-4b68-9e4c-985bcd0bb68a",
   "metadata": {
    "execution": {
     "iopub.execute_input": "2024-11-22T13:51:18.057652Z",
     "iopub.status.busy": "2024-11-22T13:51:18.057333Z",
     "iopub.status.idle": "2024-11-22T13:51:31.485003Z",
     "shell.execute_reply": "2024-11-22T13:51:31.484072Z",
     "shell.execute_reply.started": "2024-11-22T13:51:18.057623Z"
    }
   },
   "outputs": [],
   "source": [
    "%matplotlib inline\n",
    "\n",
    "import numpy as np\n",
    "from pathlib import Path\n",
    "import matplotlib.pyplot as plt\n",
    "\n",
    "from astropy import units\n",
    "from astropy.io import fits"
   ]
  },
  {
   "cell_type": "code",
   "execution_count": 2,
   "id": "db91bd7b-cae6-4575-ba8f-99b2cf2b81ab",
   "metadata": {
    "execution": {
     "iopub.execute_input": "2024-11-22T13:51:44.898516Z",
     "iopub.status.busy": "2024-11-22T13:51:44.897879Z",
     "iopub.status.idle": "2024-11-22T13:51:44.903763Z",
     "shell.execute_reply": "2024-11-22T13:51:44.902913Z",
     "shell.execute_reply.started": "2024-11-22T13:51:44.898482Z"
    }
   },
   "outputs": [],
   "source": [
    "# This function was copied from the meerklass/meerpower github repo\n",
    "# https://github.com/meerklass/meerpower\n",
    "# from the meerpower/Init.py module\n",
    "\n",
    "def cal_freq(ch):\n",
    "    \"\"\"\n",
    "    Converts a L-band channel index to a frequency in Hertz.\n",
    "\n",
    "    Parameters\n",
    "    ----------\n",
    "    ch : int\n",
    "        L-band frequency channel index.\n",
    "\n",
    "    Returns\n",
    "    -------\n",
    "    freq : float\n",
    "        Freuqency in Hertz.\n",
    "\n",
    "    \"\"\"\n",
    "    # Function from Jingying Wang to get L-band channel frequencies\n",
    "    v_min = 856.0\n",
    "    v_max = 1712.0\n",
    "    dv = 0.208984375\n",
    "    assert((v_max - v_min)/dv == 4096)\n",
    "    freq_MHz = ch*dv + v_min\n",
    "    freq = freq_MHz*1e6\n",
    "\n",
    "    return freq"
   ]
  },
  {
   "cell_type": "markdown",
   "id": "4dcab0b0-d3bc-4582-977e-f3a1450bc796",
   "metadata": {},
   "source": [
    "# Frequency axis definition"
   ]
  },
  {
   "cell_type": "code",
   "execution_count": 3,
   "id": "9e16ccdc-35cb-44c3-8ee7-e2035d152886",
   "metadata": {
    "execution": {
     "iopub.execute_input": "2024-11-22T13:51:52.970642Z",
     "iopub.status.busy": "2024-11-22T13:51:52.970310Z",
     "iopub.status.idle": "2024-11-22T13:51:52.977775Z",
     "shell.execute_reply": "2024-11-22T13:51:52.977000Z",
     "shell.execute_reply.started": "2024-11-22T13:51:52.970614Z"
    }
   },
   "outputs": [],
   "source": [
    "# Extrema for frequencies used in the MeerKLASS\n",
    "# cross-correlation power spectrum pipeline in MHz\n",
    "freq_min = 971 * units.MHz\n",
    "freq_max = 1023.8 * units.MHz\n",
    "\n",
    "# Frequency channel indices (4096 frequency channels)\n",
    "freq_chans = np.arange(1, 4096+1, 1)\n",
    "# Frequencies in MHz\n",
    "freqs = units.Quantity(cal_freq(freq_chans), unit='Hz').to('MHz')\n",
    "freq_mask = np.logical_and(freqs > freq_min, freqs < freq_max)"
   ]
  },
  {
   "cell_type": "markdown",
   "id": "cb2dea7b-0ebf-4b43-ab59-d83bb5dcc028",
   "metadata": {},
   "source": [
    "# Replace counts with uniform counts"
   ]
  },
  {
   "cell_type": "code",
   "execution_count": 9,
   "id": "962406ae-3bc4-4613-a605-2ae38608dc90",
   "metadata": {
    "execution": {
     "iopub.execute_input": "2024-11-22T13:56:43.673892Z",
     "iopub.status.busy": "2024-11-22T13:56:43.673571Z",
     "iopub.status.idle": "2024-11-22T13:56:55.101383Z",
     "shell.execute_reply": "2024-11-22T13:56:55.100505Z",
     "shell.execute_reply.started": "2024-11-22T13:56:43.673865Z"
    }
   },
   "outputs": [
    {
     "name": "stdout",
     "output_type": "stream",
     "text": [
      "(133, 73, 4096)\n"
     ]
    }
   ],
   "source": [
    "true_counts_path = Path('../lband/2021/Nscan961_Npix_count_cube_p0.3d_sigma4.0_iter2.fits')\n",
    "with fits.open(true_counts_path) as hdul:\n",
    "    # The counts array has shape (Npix_ra, Npix_dec, Nfreqs)\n",
    "    counts = hdul[0].data\n",
    "    print(counts.shape)\n",
    "\n",
    "# Filepath where the mock data counts will be saved\n",
    "# This file is a copy of the fits file in `true_counts_path` to preserve the metadata\n",
    "mock_counts_path = Path('data/Npix_counts.fits')"
   ]
  },
  {
   "cell_type": "code",
   "execution_count": 5,
   "id": "5d0caa8a-7f58-4457-a13a-5b296f04c6a7",
   "metadata": {
    "execution": {
     "iopub.execute_input": "2024-11-22T13:51:58.613077Z",
     "iopub.status.busy": "2024-11-22T13:51:58.612719Z",
     "iopub.status.idle": "2024-11-22T13:51:58.755323Z",
     "shell.execute_reply": "2024-11-22T13:51:58.754412Z",
     "shell.execute_reply.started": "2024-11-22T13:51:58.613048Z"
    }
   },
   "outputs": [],
   "source": [
    "# Load the mock data to construct the pixel counts footprint as the\n",
    "# data and the mock data have slightly different footprints in RA, Dec\n",
    "mock_data_path = Path('../lband/2021/dT_HI_p0.3d_wBeam_499.npy')\n",
    "mock_data = np.load(mock_data_path)"
   ]
  },
  {
   "cell_type": "code",
   "execution_count": null,
   "id": "ea12ace9-a5b5-4d49-b7ab-e266cd25f6fa",
   "metadata": {
    "execution": {
     "iopub.execute_input": "2024-11-22T13:52:01.134768Z",
     "iopub.status.busy": "2024-11-22T13:52:01.134428Z",
     "iopub.status.idle": "2024-11-22T13:52:01.251841Z",
     "shell.execute_reply": "2024-11-22T13:52:01.250926Z",
     "shell.execute_reply.started": "2024-11-22T13:52:01.134723Z"
    }
   },
   "outputs": [],
   "source": [
    "mock_counts = np.zeros_like(counts)\n",
    "\n",
    "# Construct mask which is only nonzero for\n",
    "# the pixels where the mock data is nonzero\n",
    "nonzero_data_mask = mock_data.std(axis=-1) > 0\n",
    "mock_counts[..., freq_mask] = nonzero_data_mask.astype(float)[:, :, None]\n",
    "\n",
    "with fits.open(mock_counts_path, mode='update') as hdul:\n",
    "    hdul[0].data = mock_counts"
   ]
  },
  {
   "cell_type": "markdown",
   "id": "a33feb07-13e2-46e6-86fa-d557f3e5afd1",
   "metadata": {},
   "source": [
    "# Replace data with mock data"
   ]
  },
  {
   "cell_type": "code",
   "execution_count": 103,
   "id": "d80f228a-3d95-42c7-ad9c-24902db90715",
   "metadata": {
    "execution": {
     "iopub.execute_input": "2024-11-18T17:04:23.053533Z",
     "iopub.status.busy": "2024-11-18T17:04:23.053191Z",
     "iopub.status.idle": "2024-11-18T17:04:23.067951Z",
     "shell.execute_reply": "2024-11-18T17:04:23.067095Z",
     "shell.execute_reply.started": "2024-11-18T17:04:23.053502Z"
    }
   },
   "outputs": [
    {
     "name": "stdout",
     "output_type": "stream",
     "text": [
      "(133, 73, 4096)\n",
      "(133, 73, 252)\n"
     ]
    }
   ],
   "source": [
    "true_data_path = Path('../lband/2021/Nscan961_Tsky_cube_p0.3d_sigma4.0_iter2.fits')\n",
    "mock_data_path_npy = Path('../lband/2021/dT_HI_p0.3d_wBeam_499.npy')\n",
    "with fits.open(true_data_path) as hdul:\n",
    "    # The data array has shape (Npix_ra, Npix_dec, Nfreqs)\n",
    "    data = hdul[0].data\n",
    "    print(data.shape)\n",
    "mock_data = np.load(mock_data_path_npy)\n",
    "# mock_data[mock_data == 0] = np.nan\n",
    "print(mock_data.shape)\n",
    "\n",
    "# Filepath for mock data fits file\n",
    "mock_data_path = Path('data/Tsky.fits')"
   ]
  },
  {
   "cell_type": "code",
   "execution_count": 104,
   "id": "3d941260-f3b4-46d9-866d-5483e992aea7",
   "metadata": {
    "execution": {
     "iopub.execute_input": "2024-11-18T17:04:23.617309Z",
     "iopub.status.busy": "2024-11-18T17:04:23.616764Z",
     "iopub.status.idle": "2024-11-18T17:04:23.624888Z",
     "shell.execute_reply": "2024-11-18T17:04:23.624072Z",
     "shell.execute_reply.started": "2024-11-18T17:04:23.617279Z"
    }
   },
   "outputs": [
    {
     "name": "stdout",
     "output_type": "stream",
     "text": [
      "(133, 73, 4096)\n"
     ]
    }
   ],
   "source": [
    "# Load mock counts to get pixel indices for non-NaN mock data\n",
    "with fits.open('data/Npix_counts.fits') as hdul:\n",
    "    mock_counts = hdul[0].data\n",
    "print(mock_counts.shape)"
   ]
  },
  {
   "cell_type": "code",
   "execution_count": null,
   "id": "f4b121e6-a8aa-4d73-820b-5e7a5a0dd2fd",
   "metadata": {
    "execution": {
     "iopub.execute_input": "2024-11-18T17:06:02.596268Z",
     "iopub.status.busy": "2024-11-18T17:06:02.595656Z",
     "iopub.status.idle": "2024-11-18T17:06:02.762265Z",
     "shell.execute_reply": "2024-11-18T17:06:02.761329Z",
     "shell.execute_reply.started": "2024-11-18T17:06:02.596235Z"
    }
   },
   "outputs": [],
   "source": [
    "mock_data_out = np.zeros_like(data)\n",
    "\n",
    "# Only place mock data in the pixels where the mock counts are nonzero\n",
    "mock_data_mask = mock_counts > 0\n",
    "mock_data_out[mock_data_mask] = mock_data[mock_data_mask[..., freq_mask]]\n",
    "\n",
    "with fits.open(mock_data_path, mode='update') as hdul:\n",
    "    hdul[0].data = mock_data_out"
   ]
  }
 ],
 "metadata": {
  "kernelspec": {
   "display_name": "Python [conda env:gridimp]",
   "language": "python",
   "name": "conda-env-gridimp-py"
  },
  "language_info": {
   "codemirror_mode": {
    "name": "ipython",
    "version": 3
   },
   "file_extension": ".py",
   "mimetype": "text/x-python",
   "name": "python",
   "nbconvert_exporter": "python",
   "pygments_lexer": "ipython3",
   "version": "3.7.12"
  }
 },
 "nbformat": 4,
 "nbformat_minor": 5
}
